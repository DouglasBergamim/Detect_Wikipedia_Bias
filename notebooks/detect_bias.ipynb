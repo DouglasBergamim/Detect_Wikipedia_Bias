{
 "cells": [
  {
   "cell_type": "code",
   "execution_count": 26,
   "metadata": {},
   "outputs": [],
   "source": [
    "# Example of a biased text\n",
    "\n",
    "text = \"\"\"\n",
    "The new smartphone model is absolutely stunning and feels like holding the future in your hand. It weighs 175 grams and has a 6.5-inch OLED display. I love how smooth the user interface is, making every interaction a delight. The battery capacity is 4,000 mAh, which typically lasts a full day under normal use. In my opinion, the camera produces the most vibrant photos I’ve ever seen on a phone. Official benchmarks show it scores 750,000 points in the standard performance test.\n",
    "\"\"\""
   ]
  },
  {
   "cell_type": "code",
   "execution_count": 5,
   "metadata": {},
   "outputs": [
    {
     "name": "stderr",
     "output_type": "stream",
     "text": [
      "[nltk_data] Downloading package punkt to /home/dods/nltk_data...\n",
      "[nltk_data]   Package punkt is already up-to-date!\n",
      "[nltk_data] Downloading package punkt_tab to /home/dods/nltk_data...\n",
      "[nltk_data]   Unzipping tokenizers/punkt_tab.zip.\n"
     ]
    }
   ],
   "source": [
    "# Bloco 1: Imports e configurações\n",
    "import nltk\n",
    "nltk.download('punkt')\n",
    "nltk.data.path.append('/home/dods/nltk_data')\n",
    "nltk.download('punkt_tab')\n",
    "from nltk.tokenize import sent_tokenize\n",
    "import pandas as pd\n",
    "from transformers import AutoTokenizer, TFAutoModelForSequenceClassification, pipeline\n"
   ]
  },
  {
   "cell_type": "code",
   "execution_count": 15,
   "metadata": {},
   "outputs": [
    {
     "name": "stderr",
     "output_type": "stream",
     "text": [
      "Some weights of the PyTorch model were not used when initializing the TF 2.0 model TFBertForSequenceClassification: ['bert.embeddings.position_ids']\n",
      "- This IS expected if you are initializing TFBertForSequenceClassification from a PyTorch model trained on another task or with another architecture (e.g. initializing a TFBertForSequenceClassification model from a BertForPreTraining model).\n",
      "- This IS NOT expected if you are initializing TFBertForSequenceClassification from a PyTorch model that you expect to be exactly identical (e.g. initializing a TFBertForSequenceClassification model from a BertForSequenceClassification model).\n",
      "All the weights of TFBertForSequenceClassification were initialized from the PyTorch model.\n",
      "If your task is similar to the task the model of the checkpoint was trained on, you can already use TFBertForSequenceClassification for predictions without further training.\n",
      "Device set to use 0\n"
     ]
    }
   ],
   "source": [
    "# Bloco 2 (corrigido): usar TFAutoModelForSequenceClassification para o modelo TF\n",
    "\n",
    "model_name = \"cffl/bert-base-styleclassification-subjective-neutral\"\n",
    "tokenizer = AutoTokenizer.from_pretrained(model_name)\n",
    "model = TFAutoModelForSequenceClassification.from_pretrained(model_name, from_pt=True)\n",
    "\n",
    "classifier = pipeline(\n",
    "    \"text-classification\",\n",
    "    model=model,\n",
    "    tokenizer=tokenizer,\n",
    "    framework=\"tf\",\n",
    "    top_k=None\n",
    ")\n"
   ]
  },
  {
   "cell_type": "code",
   "execution_count": 16,
   "metadata": {},
   "outputs": [],
   "source": [
    "def split_text_to_df(text: str) -> pd.DataFrame:\n",
    "    sentences = sent_tokenize(text, language='english')\n",
    "    return pd.DataFrame({'sentence': sentences})"
   ]
  },
  {
   "cell_type": "code",
   "execution_count": 21,
   "metadata": {},
   "outputs": [],
   "source": [
    "# Bloco: Função detect_bias ajustada para usar o label exato retornado pela API\n",
    "def detect_bias(df: pd.DataFrame) -> pd.DataFrame:\n",
    "    labels = []\n",
    "    bias_scores = []\n",
    "    for sent in df['sentence']:\n",
    "        scores = classifier(sent, top_k=None)           # [{'label':..., 'score':...}, ...]\n",
    "        best = max(scores, key=lambda x: x['score'])    # escolhe a classe de maior confiança\n",
    "        labels.append(best['label'])                    # label idêntico ao retornado\n",
    "        bias_scores.append(best['score'])               # score dessa classe\n",
    "    df['label'] = labels\n",
    "    df['bias_score'] = bias_scores\n",
    "    return df\n"
   ]
  },
  {
   "cell_type": "code",
   "execution_count": 27,
   "metadata": {},
   "outputs": [
    {
     "data": {
      "text/html": [
       "<div>\n",
       "<style scoped>\n",
       "    .dataframe tbody tr th:only-of-type {\n",
       "        vertical-align: middle;\n",
       "    }\n",
       "\n",
       "    .dataframe tbody tr th {\n",
       "        vertical-align: top;\n",
       "    }\n",
       "\n",
       "    .dataframe thead th {\n",
       "        text-align: right;\n",
       "    }\n",
       "</style>\n",
       "<table border=\"1\" class=\"dataframe\">\n",
       "  <thead>\n",
       "    <tr style=\"text-align: right;\">\n",
       "      <th></th>\n",
       "      <th>sentence</th>\n",
       "      <th>label</th>\n",
       "      <th>bias_score</th>\n",
       "    </tr>\n",
       "  </thead>\n",
       "  <tbody>\n",
       "    <tr>\n",
       "      <th>0</th>\n",
       "      <td>\\nThe new smartphone model is absolutely stunn...</td>\n",
       "      <td>SUBJECTIVE</td>\n",
       "      <td>0.990301</td>\n",
       "    </tr>\n",
       "    <tr>\n",
       "      <th>1</th>\n",
       "      <td>It weighs 175 grams and has a 6.5-inch OLED di...</td>\n",
       "      <td>NEUTRAL</td>\n",
       "      <td>0.971791</td>\n",
       "    </tr>\n",
       "    <tr>\n",
       "      <th>2</th>\n",
       "      <td>I love how smooth the user interface is, makin...</td>\n",
       "      <td>SUBJECTIVE</td>\n",
       "      <td>0.973334</td>\n",
       "    </tr>\n",
       "    <tr>\n",
       "      <th>3</th>\n",
       "      <td>The battery capacity is 4,000 mAh, which typic...</td>\n",
       "      <td>NEUTRAL</td>\n",
       "      <td>0.861992</td>\n",
       "    </tr>\n",
       "    <tr>\n",
       "      <th>4</th>\n",
       "      <td>In my opinion, the camera produces the most vi...</td>\n",
       "      <td>SUBJECTIVE</td>\n",
       "      <td>0.538275</td>\n",
       "    </tr>\n",
       "    <tr>\n",
       "      <th>5</th>\n",
       "      <td>Official benchmarks show it scores 750,000 poi...</td>\n",
       "      <td>NEUTRAL</td>\n",
       "      <td>0.801163</td>\n",
       "    </tr>\n",
       "  </tbody>\n",
       "</table>\n",
       "</div>"
      ],
      "text/plain": [
       "                                            sentence       label  bias_score\n",
       "0  \\nThe new smartphone model is absolutely stunn...  SUBJECTIVE    0.990301\n",
       "1  It weighs 175 grams and has a 6.5-inch OLED di...     NEUTRAL    0.971791\n",
       "2  I love how smooth the user interface is, makin...  SUBJECTIVE    0.973334\n",
       "3  The battery capacity is 4,000 mAh, which typic...     NEUTRAL    0.861992\n",
       "4  In my opinion, the camera produces the most vi...  SUBJECTIVE    0.538275\n",
       "5  Official benchmarks show it scores 750,000 poi...     NEUTRAL    0.801163"
      ]
     },
     "execution_count": 27,
     "metadata": {},
     "output_type": "execute_result"
    }
   ],
   "source": [
    "df_sent = split_text_to_df(text)\n",
    "df_result = detect_bias(df_sent)\n",
    "df_result"
   ]
  }
 ],
 "metadata": {
  "kernelspec": {
   "display_name": ".venv",
   "language": "python",
   "name": "python3"
  },
  "language_info": {
   "codemirror_mode": {
    "name": "ipython",
    "version": 3
   },
   "file_extension": ".py",
   "mimetype": "text/x-python",
   "name": "python",
   "nbconvert_exporter": "python",
   "pygments_lexer": "ipython3",
   "version": "3.11.12"
  }
 },
 "nbformat": 4,
 "nbformat_minor": 2
}
